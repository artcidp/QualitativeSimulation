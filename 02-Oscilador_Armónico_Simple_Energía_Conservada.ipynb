{
 "cells": [
  {
   "cell_type": "code",
   "execution_count": 1,
   "metadata": {},
   "outputs": [],
   "source": [
    "#import QSIM #imports all submodules\n",
    "from QSIM import * #imports all functions and classes"
   ]
  },
  {
   "cell_type": "markdown",
   "metadata": {},
   "source": [
    "# Definir PSR Inicial"
   ]
  },
  {
   "cell_type": "code",
   "execution_count": 4,
   "metadata": {},
   "outputs": [],
   "source": [
    "#basic landmarks\n",
    "zero=landmark_value(\"0\",0)\n",
    "inf=landmark_value(\"inf\",1,is_finite=False)\n",
    "neg_inf=landmark_value(\"-inf\",-1,is_finite=False)\n",
    "\n",
    "one=landmark_value(\"1\",Sign(1))\n",
    "\n",
    "#####  Variables=[t,dt,x,vx,ax], also [vx_squared,KE, PE, E]\n",
    "\n",
    "#time\n",
    "t0=landmark_value(\"t0\",0)\n",
    "t_qs=quantity_space(\"t\",[t0,inf])\n",
    "\n",
    "qv_t0=qualitative_value(t0,Sign(1))\n",
    "\n",
    "\n",
    "qv_t0_none_sign=qualitative_value(t0,Sign(None))\n",
    "\n",
    "#x\n",
    "x0=landmark_value(\"x0\",1)\n",
    "x_qs=quantity_space(\"x\",[neg_inf,zero,x0,inf])\n",
    "\n",
    "qv_x0=qualitative_value(x0,Sign(None))\n",
    "\n",
    "\n",
    "#vx\n",
    "vx0=landmark_value(\"vx0\",1)\n",
    "vx_qs=quantity_space(\"vx\",[neg_inf,zero,inf])\n",
    "\n",
    "#qv_vx0=qualitative_value(vx0,Sign(None))\n",
    "\n",
    "\n",
    "#ax\n",
    "ax0=landmark_value(\"ax0\",-1)\n",
    "ax_qs=quantity_space(\"ax\",[neg_inf,ax0,zero,inf])\n",
    "\n",
    "qv_ax0=qualitative_value(ax0,Sign(None))\n",
    "\n",
    "\n",
    "#vx_squared\n",
    "vx_squared_0=landmark_value(\"vx_squared_0\",1,is_finite=True)\n",
    "vx_squared_qs=quantity_space(\"vx_squared\",[zero,vx_squared_0,inf])\n",
    "\n",
    "#kinetic energy\n",
    "#KE0=landmark_value(\"KE0\",1,is_finite=True)\n",
    "KE_qs=quantity_space(\"K\",[zero,inf])\n",
    "\n",
    "#potential energy\n",
    "U0=landmark_value(\"U0\",1,is_finite=True)\n",
    "PE_qs=quantity_space(\"U\",[zero,U0,inf])\n",
    "\n",
    "#energy\n",
    "E0=landmark_value(\"E0\",1,is_finite=True)\n",
    "E_qs=quantity_space(\"E\",[zero,E0,inf])\n",
    "\n",
    "#add dt as a variable\n",
    "\n",
    "dt_qs=quantity_space(variable=\"dt\",landmarks_list=[zero,one])\n",
    "dt_qs.set_maximum_limit(one)\n",
    "dt_qs.set_minimum_limit(zero)\n",
    "\n",
    "\n",
    "vx_squared_qs.set_minimum_limit(zero)\n",
    "KE_qs.set_minimum_limit(zero)\n",
    "PE_qs.set_minimum_limit(zero)\n",
    "E_qs.set_minimum_limit(zero)\n",
    "\n",
    "\n",
    "\n",
    "#Constraints\n",
    "\n",
    "dt_x_vx=Derivative(quantity_spaces=[x_qs,vx_qs])\n",
    "dt_vx_ax=Derivative(quantity_spaces=[vx_qs,ax_qs])\n",
    "mminus_ax_x=Minus([ax_qs,x_qs])#M([ax_qs,x_qs],type=Sign(-1))\n",
    "\n",
    "\n",
    "dt_t_dt=Derivative(quantity_spaces=[t_qs,dt_qs])\n",
    "const_dt_pos=Constant(quantity_spaces=[dt_qs],current_value=one)\n",
    "\n",
    "mult_vx_vx_vxsquared=Mult(quantity_spaces=[vx_qs,vx_qs,vx_squared_qs])\n",
    "\n",
    "#mplus_vxsq_ke=M([vx_squared_qs,KE_qs],type=Sign(1))\n",
    "uplus_vx_ke=U([vx_qs,KE_qs],type=Sign(1),a=zero,b=zero)\n",
    "uplus_x_pe=U([x_qs,PE_qs],type=Sign(1),a=zero,b=zero)\n",
    "#mplus_x_pe=M([x_qs,PE_qs],type=Sign(1))\n",
    "\n",
    "add_ke_pe_E=Add([KE_qs,PE_qs,E_qs])\n",
    "const_E=Constant([E_qs],current_value=E0)\n",
    "\n",
    "\n",
    "all_q_spaces2=[t_qs,x_qs,vx_qs,ax_qs,dt_qs,KE_qs,PE_qs,E_qs] #,vx_squared_qs\n",
    "\n",
    "Q2={}\n",
    "for qs in all_q_spaces2:\n",
    "    Q2[qs.variable]=qs\n",
    "\n",
    "V2=[qs.variable for qs in all_q_spaces2]\n",
    "\n",
    "C2=[dt_x_vx,dt_vx_ax,mminus_ax_x,dt_t_dt,const_dt_pos,uplus_x_pe,uplus_vx_ke,add_ke_pe_E,const_E] #mplus_vxsq_ke,mult_vx_vx_vxsquared\n",
    "\n",
    "\n",
    "Dbar2={'t':qualitative_value(t0,None),'x':qv_x0,'vx':qualitative_value(zero,None),'ax':qv_ax0,#'vx_squared':qualitative_value(zero,None),\n",
    "       'K':qualitative_value(zero,None),'U':qualitative_value(U0,None),'E':qualitative_value(E0,None)}\n",
    "initial_conditions_state2=Qualitative_State(Dbar2)\n",
    "\n",
    "\n",
    "Dbar_zero2={'t':qualitative_value(t0,None),'x':qualitative_value(zero,None),'vx':qualitative_value(zero,None),'ax':qualitative_value(zero,None),\n",
    "            'K':qualitative_value(None,None),'U':qualitative_value(zero,None),'E':qualitative_value(zero,None)}\n",
    "initial_conditions_state02=Qualitative_State(Dbar_zero2)"
   ]
  },
  {
   "cell_type": "code",
   "execution_count": 5,
   "metadata": {},
   "outputs": [
    {
     "data": {
      "text/plain": [
       "(['t', 'x', 'vx', 'ax', 'dt', 'K', 'U', 'E'],\n",
       " {'t': t: t0 ... inf,\n",
       "  'x': x: -inf ... 0 ... x0 ... inf,\n",
       "  'vx': vx: -inf ... 0 ... inf,\n",
       "  'ax': ax: -inf ... ax0 ... 0 ... inf,\n",
       "  'dt': dt: 0 ... 1,\n",
       "  'K': K: 0 ... inf,\n",
       "  'U': U: 0 ... U0 ... inf,\n",
       "  'E': E: 0 ... E0 ... inf},\n",
       " [⟨ (d/dt x vx)⟩,\n",
       "  ⟨ (d/dt vx ax)⟩,\n",
       "  ⟨ (M- ax x)  (⟨inf, dec⟩, ⟨-inf, inc⟩), (⟨0, dec⟩, ⟨0, inc⟩), (⟨-inf, dec⟩, ⟨inf, inc⟩), (⟨0, inc⟩, ⟨0, dec⟩), (⟨inf, std⟩, ⟨-inf, std⟩), (⟨0, std⟩, ⟨0, std⟩), (⟨-inf, inc⟩, ⟨inf, dec⟩), (⟨-inf, std⟩, ⟨inf, std⟩), (⟨inf, inc⟩, ⟨-inf, dec⟩)⟩,\n",
       "  ⟨ (d/dt t dt)⟩,\n",
       "  ⟨ (const dt)⟩,\n",
       "  ⟨ (U+_(0, 0) x U)⟩,\n",
       "  ⟨ (U+_(0, 0) vx K)⟩,\n",
       "  ⟨ ( ADD K U E)  (⟨0, inc⟩, ⟨0, dec⟩, ⟨0, inc⟩), (⟨0, std⟩, ⟨0, inc⟩, ⟨0, inc⟩), (⟨0, dec⟩, ⟨0, inc⟩, ⟨0, inc⟩), (⟨0, std⟩, ⟨0, std⟩, ⟨0, std⟩), (⟨0, inc⟩, ⟨0, dec⟩, ⟨0, dec⟩), (⟨0, std⟩, ⟨0, dec⟩, ⟨0, dec⟩), (⟨0, inc⟩, ⟨0, inc⟩, ⟨0, inc⟩), (⟨0, inc⟩, ⟨0, dec⟩, ⟨0, std⟩), (⟨0, dec⟩, ⟨0, dec⟩, ⟨0, dec⟩), (⟨0, dec⟩, ⟨0, inc⟩, ⟨0, std⟩), (⟨0, inc⟩, ⟨0, std⟩, ⟨0, inc⟩), (⟨0, dec⟩, ⟨0, std⟩, ⟨0, dec⟩), (⟨0, dec⟩, ⟨0, inc⟩, ⟨0, dec⟩)⟩,\n",
       "  ⟨ (const E)⟩],\n",
       " {'t': ⟨t0, None⟩,\n",
       "  'x': ⟨x0, None⟩,\n",
       "  'vx': ⟨0, None⟩,\n",
       "  'ax': ⟨ax0, None⟩,\n",
       "  'K': ⟨0, None⟩,\n",
       "  'U': ⟨U0, None⟩,\n",
       "  'E': ⟨E0, None⟩})"
      ]
     },
     "execution_count": 5,
     "metadata": {},
     "output_type": "execute_result"
    }
   ],
   "source": [
    "V2,Q2,C2,initial_conditions_state2"
   ]
  },
  {
   "cell_type": "markdown",
   "metadata": {},
   "source": [
    "# Resovler PSR"
   ]
  },
  {
   "cell_type": "code",
   "execution_count": 4,
   "metadata": {},
   "outputs": [
    {
     "name": "stdout",
     "output_type": "stream",
     "text": [
      "0\n"
     ]
    },
    {
     "name": "stderr",
     "output_type": "stream",
     "text": [
      "100%|██████████| 1/1 [00:00<00:00, 41.37it/s]\n"
     ]
    },
    {
     "name": "stdout",
     "output_type": "stream",
     "text": [
      "1\n"
     ]
    },
    {
     "name": "stderr",
     "output_type": "stream",
     "text": [
      "100%|██████████| 1/1 [00:00<00:00,  1.12it/s]\n"
     ]
    },
    {
     "name": "stdout",
     "output_type": "stream",
     "text": [
      "2\n"
     ]
    },
    {
     "name": "stderr",
     "output_type": "stream",
     "text": [
      "100%|██████████| 1/1 [00:00<00:00, 51.13it/s]\n"
     ]
    },
    {
     "name": "stdout",
     "output_type": "stream",
     "text": [
      "3\n"
     ]
    },
    {
     "name": "stderr",
     "output_type": "stream",
     "text": [
      "100%|██████████| 1/1 [00:02<00:00,  2.02s/it]\n"
     ]
    },
    {
     "name": "stdout",
     "output_type": "stream",
     "text": [
      "4\n"
     ]
    },
    {
     "name": "stderr",
     "output_type": "stream",
     "text": [
      "100%|██████████| 1/1 [00:00<00:00, 40.01it/s]\n"
     ]
    },
    {
     "name": "stdout",
     "output_type": "stream",
     "text": [
      "5\n"
     ]
    },
    {
     "name": "stderr",
     "output_type": "stream",
     "text": [
      "100%|██████████| 1/1 [00:01<00:00,  1.01s/it]\n"
     ]
    },
    {
     "name": "stdout",
     "output_type": "stream",
     "text": [
      "6\n"
     ]
    },
    {
     "name": "stderr",
     "output_type": "stream",
     "text": [
      "100%|██████████| 1/1 [00:00<00:00, 25.62it/s]\n"
     ]
    },
    {
     "name": "stdout",
     "output_type": "stream",
     "text": [
      "7\n"
     ]
    },
    {
     "name": "stderr",
     "output_type": "stream",
     "text": [
      "100%|██████████| 1/1 [00:02<00:00,  2.36s/it]\n"
     ]
    },
    {
     "name": "stdout",
     "output_type": "stream",
     "text": [
      "8\n"
     ]
    },
    {
     "name": "stderr",
     "output_type": "stream",
     "text": [
      "0it [00:00, ?it/s]\n"
     ]
    }
   ],
   "source": [
    "from anytree import AsciiStyle, ContRoundStyle, ContStyle, DoubleStyle\n",
    "\n",
    "qv_none_both=qualitative_value(None,None)\n",
    "Trans_conditions=[False]\n",
    "\n",
    "energy_root=QSIM(V2,Q2,C2,Trans_conditions,initial_conditions_state2,time_var=\"t\",cycle_match_criteria=\"strong\",max_breadth=3000,max_depth=10)"
   ]
  },
  {
   "cell_type": "code",
   "execution_count": 5,
   "metadata": {},
   "outputs": [],
   "source": [
    "#export tree to .txt for detailed view\n",
    "with open(\"Tree_Outputs/02-Oscilador_Armónico_Simple_con_Energía_Conservada.txt\",\"w\") as f:\n",
    "    for pre, fill, node in RenderTree(energy_root,style=ContRoundStyle()): \n",
    "        if node.name[\"cycle_loc\"]==None:\n",
    "            print(str(pre)+str(node.name[\"loc\"])+\":\"+str({key: node.name[\"State\"].get(key,qv_none_both) for key in V2})+\" \",file=f) #make sure that dictionary is printed in the order of V\n",
    "        else:\n",
    "            print(str(pre)+str(node.name[\"loc\"])+\":\"+str({key: node.name[\"State\"].get(key,qv_none_both) for key in V2})+\" -> \"+str(node.name[\"cycle_loc\"]),file=f)"
   ]
  },
  {
   "cell_type": "code",
   "execution_count": 12,
   "metadata": {},
   "outputs": [
    {
     "name": "stdout",
     "output_type": "stream",
     "text": [
      "0\n"
     ]
    },
    {
     "name": "stderr",
     "output_type": "stream",
     "text": [
      "  0%|          | 0/1 [00:00<?, ?it/s]"
     ]
    },
    {
     "name": "stderr",
     "output_type": "stream",
     "text": [
      "100%|██████████| 1/1 [00:00<00:00,  5.57it/s]\n"
     ]
    },
    {
     "name": "stdout",
     "output_type": "stream",
     "text": [
      "1\n"
     ]
    },
    {
     "name": "stderr",
     "output_type": "stream",
     "text": [
      "0it [00:00, ?it/s]\n"
     ]
    },
    {
     "name": "stdout",
     "output_type": "stream",
     "text": [
      "2\n"
     ]
    },
    {
     "name": "stderr",
     "output_type": "stream",
     "text": [
      "0it [00:00, ?it/s]\n"
     ]
    },
    {
     "name": "stdout",
     "output_type": "stream",
     "text": [
      "3\n"
     ]
    },
    {
     "name": "stderr",
     "output_type": "stream",
     "text": [
      "0it [00:00, ?it/s]\n"
     ]
    },
    {
     "name": "stdout",
     "output_type": "stream",
     "text": [
      "4\n"
     ]
    },
    {
     "name": "stderr",
     "output_type": "stream",
     "text": [
      "0it [00:00, ?it/s]\n"
     ]
    },
    {
     "name": "stdout",
     "output_type": "stream",
     "text": [
      "5\n"
     ]
    },
    {
     "name": "stderr",
     "output_type": "stream",
     "text": [
      "0it [00:00, ?it/s]\n"
     ]
    },
    {
     "name": "stdout",
     "output_type": "stream",
     "text": [
      "6\n"
     ]
    },
    {
     "name": "stderr",
     "output_type": "stream",
     "text": [
      "0it [00:00, ?it/s]\n"
     ]
    },
    {
     "name": "stdout",
     "output_type": "stream",
     "text": [
      "7\n"
     ]
    },
    {
     "name": "stderr",
     "output_type": "stream",
     "text": [
      "0it [00:00, ?it/s]\n"
     ]
    }
   ],
   "source": [
    "#stationary initial state\n",
    "qv_none_both=qualitative_value(None,None)\n",
    "Trans_conditions=[False]\n",
    "const_E_stationary=Constant([E_qs],current_value=zero)\n",
    "stationary_energy_root=QSIM(V2,Q2,C2[:-1]+[const_E_stationary],Trans_conditions,initial_conditions_state02,time_var=\"t\",cycle_match_criteria=\"strong\",max_breadth=3000,max_depth=9)"
   ]
  },
  {
   "cell_type": "code",
   "execution_count": 9,
   "metadata": {},
   "outputs": [],
   "source": [
    "from anytree import AsciiStyle, ContRoundStyle, ContStyle, DoubleStyle\n",
    "#export tree to .txt for detailed view\n",
    "with open(\"Tree_Outputs/02-Oscilador_Armónico_Simple_con_Energía_Conservada_(Estacionario).txt\",\"w\") as f:\n",
    "    for pre, fill, node in RenderTree(stationary_energy_root,style=ContRoundStyle()): \n",
    "        if node.name[\"cycle_loc\"]==None:\n",
    "            print(str(pre)+str(node.name[\"loc\"])+\":\"+str({key: node.name[\"State\"].get(key,qv_none_both) for key in V2})+\" \",file=f) #make sure that dictionary is printed in the order of V\n",
    "        else:\n",
    "            print(str(pre)+str(node.name[\"loc\"])+\":\"+str({key: node.name[\"State\"].get(key,qv_none_both) for key in V2})+\" -> \"+str(node.name[\"cycle_loc\"]),file=f)"
   ]
  },
  {
   "cell_type": "code",
   "execution_count": 8,
   "metadata": {},
   "outputs": [],
   "source": [
    "from anytree.exporter import DictExporter #, JsonExporter, DotExporter\n",
    "from anytree.importer import DictImporter\n",
    "import pickle\n",
    "\n",
    "exporter = DictExporter()\n",
    "tree_dict=exporter.export(energy_root)\n",
    "#exporter = JsonExporter(indent=2, sort_keys=True) #Object of type Derivative is not JSON serializable\n",
    "\n",
    "with open('oscilador_armonico_simple_energia_conservada.pkl', 'wb') as f:\n",
    "   pickle.dump(tree_dict, f)"
   ]
  },
  {
   "cell_type": "markdown",
   "metadata": {},
   "source": [
    "# Graficar Soluciones del PSR"
   ]
  },
  {
   "cell_type": "code",
   "execution_count": 9,
   "metadata": {},
   "outputs": [
    {
     "name": "stdout",
     "output_type": "stream",
     "text": [
      " No module named 'igraph'. If you need to use hypernetx.algorithms.hypergraph_modularity, please install additional packages by running the following command: pip install .['all']\n"
     ]
    }
   ],
   "source": [
    "import networkx as nx\n",
    "import hypernetx as hnx\n",
    "\n",
    "constraint_name_translation_mapping={\"Derivative\":\"Derivada\",\"Constant\":\"Constante\",\"Add\":\"Suma\",\"Minus[-]\":r\"$M^-_0$\",\"Plus[+]\":r\"$M^+_0$\",\"U[+]\":r\"$U^+$\",\"U[-]\":r\"$U^-$\"}\n",
    "\n",
    "\n",
    "def get_constraint_name(c):\n",
    "    name=str(type(c)).split(\".\")[1]\n",
    "    if isinstance(c,M) or isinstance(c,U):\n",
    "        name+=str(c.type)\n",
    "\n",
    "    new_name=name.replace(\"'>\",\"\")\n",
    "    for key in constraint_name_translation_mapping:\n",
    "        new_name=new_name.replace(key,constraint_name_translation_mapping[key])\n",
    "\n",
    "    return new_name\n",
    "\n",
    "\n",
    "def hypergraph_plot_from_C(C):\n",
    "    data = {i: c.variables for i,c in enumerate(C)}\n",
    "    labels={i: get_constraint_name(c) for i,c in enumerate(C)}\n",
    "    H = hnx.Hypergraph(setsystem=data)\n",
    "    hnx.draw(H,with_edge_counts=True,edge_labels=labels)\n",
    "\n",
    "\n",
    "class HashableDict(dict):\n",
    "    def __hash__(self):\n",
    "        return hash(tuple(sorted(self.items())))"
   ]
  },
  {
   "cell_type": "code",
   "execution_count": 10,
   "metadata": {},
   "outputs": [
    {
     "name": "stderr",
     "output_type": "stream",
     "text": [
      "c:\\ProgramData\\Anaconda3\\lib\\site-packages\\hypernetx\\classes\\entity.py:1387: RuntimeWarning: The values in the array are unorderable. Pass `sort=False` to suppress this warning.\n",
      "  properties = props.combine_first(self.properties)\n",
      "c:\\ProgramData\\Anaconda3\\lib\\site-packages\\hypernetx\\classes\\entity.py:1390: RuntimeWarning: The values in the array are unorderable. Pass `sort=False` to suppress this warning.\n",
      "  properties[self._misc_props_col] = self.properties[\n",
      "c:\\ProgramData\\Anaconda3\\lib\\site-packages\\hypernetx\\classes\\entity.py:1387: RuntimeWarning: The values in the array are unorderable. Pass `sort=False` to suppress this warning.\n",
      "  properties = props.combine_first(self.properties)\n",
      "c:\\ProgramData\\Anaconda3\\lib\\site-packages\\hypernetx\\classes\\entity.py:1390: RuntimeWarning: The values in the array are unorderable. Pass `sort=False` to suppress this warning.\n",
      "  properties[self._misc_props_col] = self.properties[\n"
     ]
    },
    {
     "data": {
      "image/png": "[encoded data removed]",
      "text/plain": [
       "<Figure size 800x600 with 1 Axes>"
      ]
     },
     "metadata": {},
     "output_type": "display_data"
    }
   ],
   "source": [
    "import random\n",
    "import numpy as np\n",
    "import matplotlib.pyplot as plt\n",
    "data = {i: c.variables for i,c in enumerate(C2)}\n",
    "labels={i: get_constraint_name(c) for i,c in enumerate(C2)}\n",
    "H = hnx.Hypergraph(setsystem=data)\n",
    "\n",
    "#for n in np.linspace(0.1,0.5,10):\n",
    "# for n in np.arange(35,50,2):\n",
    "# for n in random.choices(range(1, 101), k=10):\n",
    "#     print(n)\n",
    "#     fig, ax = plt.subplots(figsize=(8, 6)) #800x600\n",
    "#     hnx.draw(H,with_edge_counts=True,with_color=True,edge_labels=labels,ax=ax,layout_kwargs={'seed': n,'k':0.5})\n",
    "#     plt.show()\n",
    "\n",
    "fig, ax = plt.subplots(figsize=(8, 6)) #800x600\n",
    "hnx.draw(H,with_edge_counts=True,with_color=True,edge_labels=labels,ax=ax,layout_kwargs={'seed': 67,'iterations':50,'k':0.5})\n",
    "#plt.savefig('Document Figures/4PSR_osc_arm_simp_energia.png',bbox_inches='tight', pad_inches=0)"
   ]
  },
  {
   "cell_type": "code",
   "execution_count": 11,
   "metadata": {},
   "outputs": [],
   "source": [
    "stationary_behavior=get_behavior_from_leaf(stationary_energy_root.leaves[0],key=None)[1:]\n",
    "#stationary_behavior=[Node(stationary_energy_root.leaves[0].name)]\n",
    "\n",
    "normal_behaviors=[]\n",
    "for leaf in energy_root.leaves:\n",
    "    normal_behaviors.append(get_behavior_from_leaf(leaf,key=None)[1:])\n",
    "\n",
    "all_behaviors=[stationary_behavior]+normal_behaviors"
   ]
  },
  {
   "cell_type": "code",
   "execution_count": 17,
   "metadata": {},
   "outputs": [
    {
     "data": {
      "image/png": "[encoded data removed]",
      "text/plain": [
       "<Figure size 1000x1000 with 1 Axes>"
      ]
     },
     "metadata": {},
     "output_type": "display_data"
    }
   ],
   "source": [
    "import pandas as pd\n",
    "import numpy as np\n",
    "\n",
    "G2 = nx.DiGraph()\n",
    "\n",
    "data=[]\n",
    "behavior_edges=[]\n",
    "for i,behavior in enumerate(all_behaviors):\n",
    "    for j,s in enumerate(behavior):\n",
    "        state=HashableDict({key: s.name[\"State\"].get(key,qv_none_both) for key in V2})\n",
    "        q=s.name[\"Q\"]\n",
    "        loc=s.name[\"loc\"]\n",
    "        cycle_loc=s.name[\"cycle_loc\"]\n",
    "        data.append([i,state,q,loc,cycle_loc])\n",
    "        \n",
    "        if j>0:\n",
    "            behavior_edges.append([data[-2][1],state]) #previous state,current state\n",
    "\n",
    "data_df=pd.DataFrame(data,columns=[\"Behavior_No\",\"State\",\"Q\",\"loc\",\"cycle_loc\"])\n",
    "\n",
    "aux_df=data_df[data_df[\"Behavior_No\"]!=0] \n",
    "\n",
    "behavior_nodes=aux_df.drop_duplicates(subset=[\"State\"])[\"State\"].to_list()\n",
    "#add cycle edges\n",
    "for index, row in aux_df.dropna(subset=[\"cycle_loc\"])[[\"loc\",\"cycle_loc\"]].drop_duplicates().iterrows():\n",
    "    loc1,loc2=row[\"loc\"],row[\"cycle_loc\"]\n",
    "    state1=aux_df[aux_df[\"loc\"]==loc1][\"State\"].iloc[-1]\n",
    "    state2=aux_df[aux_df[\"loc\"]==loc2][\"State\"].iloc[-1]\n",
    "    behavior_edges.append([state1,state2])\n",
    "\n",
    "G2.add_nodes_from(behavior_nodes)\n",
    "G2.add_edges_from(behavior_edges)\n",
    "\n",
    "#pos=nx.spectral_layout(G)\n",
    "#pos=nx.shell_layout(G) #x\n",
    "#pos=nx.random_layout(G)\n",
    "pos=nx.circular_layout(G2) #x\n",
    "#pos=nx.kamada_kawai_layout(G) #x\n",
    "#pos=nx.planar_layout(G) #x\n",
    "#pos=nx.spring_layout(G,center=(0,0),k=2)\n",
    "\n",
    "\n",
    "labels = {}\n",
    "for i,node in enumerate(G2.nodes()):\n",
    "    labels[node] = data_df[data_df[\"State\"]==node][\"loc\"].apply(lambda x: str(x).replace(\"(\",\"\").replace(\")\",\"\")).iloc[0]\n",
    "\n",
    "#change info for stationary behavior\n",
    "stationary_state=HashableDict(stationary_behavior[0].name[\"State\"])\n",
    "G2.add_node(stationary_state)\n",
    "pos[stationary_state]=np.array([0,0])\n",
    "labels[stationary_state]=\"STD\"\n",
    "\n",
    "fig=plt.figure(figsize=(10,10))\n",
    "#ax=fig.add_subplot(111)\n",
    "\n",
    "# # Draw the graph in the first subplot\n",
    "nx.draw_networkx(G2, with_labels=True,arrows=True,pos=pos,node_size=800,node_color=\"lightskyblue\",labels=labels) #labels\n",
    "plt.box(False)\n",
    "plt.savefig('../Document Figures/4osc_arm_sim_energia_conservada_envisionment.png',bbox_inches='tight', pad_inches=0.075)\n",
    "plt.show()"
   ]
  }
 ],
 "metadata": {
  "kernelspec": {
   "display_name": "base",
   "language": "python",
   "name": "python3"
  },
  "language_info": {
   "codemirror_mode": {
    "name": "ipython",
    "version": 3
   },
   "file_extension": ".py",
   "mimetype": "text/x-python",
   "name": "python",
   "nbconvert_exporter": "python",
   "pygments_lexer": "ipython3",
   "version": "3.9.18"
  }
 },
 "nbformat": 4,
 "nbformat_minor": 2
}
